{
 "cells": [
  {
   "cell_type": "code",
   "execution_count": 214,
   "id": "8addaee3",
   "metadata": {},
   "outputs": [
    {
     "name": "stdout",
     "output_type": "stream",
     "text": [
      "http://www.smartfarmkorea.net/Agree_WS/webservices/ProvideRestService/getIdentityDataList/18d0ccbdeae6402b8824a2990d0c6304//\n"
     ]
    },
    {
     "ename": "IndexError",
     "evalue": "list index out of range",
     "output_type": "error",
     "traceback": [
      "\u001b[1;31m---------------------------------------------------------------------------\u001b[0m",
      "\u001b[1;31mIndexError\u001b[0m                                Traceback (most recent call last)",
      "Cell \u001b[1;32mIn[214], line 27\u001b[0m\n\u001b[0;32m     24\u001b[0m     \u001b[38;5;28;01mpass\u001b[39;00m\n\u001b[0;32m     25\u001b[0m     \u001b[38;5;66;03m#print(i)\u001b[39;00m\n\u001b[1;32m---> 27\u001b[0m id_data \u001b[38;5;241m=\u001b[39m [\u001b[43mid_data\u001b[49m\u001b[43m[\u001b[49m\u001b[38;5;241;43m151\u001b[39;49m\u001b[43m]\u001b[49m]\n\u001b[0;32m     29\u001b[0m \u001b[38;5;28mprint\u001b[39m(id_data)\n",
      "\u001b[1;31mIndexError\u001b[0m: list index out of range"
     ]
    }
   ],
   "source": [
    "import requests\n",
    "\n",
    "id = 'http://www.smartfarmkorea.net/Agree_WS/webservices/ProvideRestService/getIdentityDataList'\n",
    "ss = 'http://www.smartfarmkorea.net/Agree_WS/webservices/ProvideRestService/getCroppingSeasonDataList'\n",
    "en = 'http://www.smartfarmkorea.net/Agree_WS/webservices/ProvideRestService/getEnvDataList'\n",
    "gr = \"http://www.smartfarmkorea.net/Agree_WS/webservices/ProvideRestService/getCultivateDataList\"\n",
    "\n",
    "\n",
    "sid = '18d0ccbdeae6402b8824a2990d0c6304'\n",
    "uid = 'PF_0001396'\n",
    "\n",
    "url = \"{}/{}/{}/{}\".format(id,sid,'','')\n",
    "    \n",
    "\n",
    "\n",
    "print(url)\n",
    "response = requests.get(url)\n",
    "\n",
    "id_data = list(filter(lambda x: x[\"itemCode\"] ==\"080300\", response.json()))\n",
    "\n",
    "id_data = list(map(lambda x: {'userId' : x['userId'], 'facilityId' : x['facilityId'], 'addressName':x['addressName']}, id_data))\n",
    "\n",
    "for i in id_data:\n",
    "    pass\n",
    "    #print(i)\n",
    "\n",
    "id_data = [id_data[151]]\n",
    "\n",
    "print(id_data)\n",
    "\n",
    "#한거 77\n",
    "#쓸만한거 0, 6, 37, 40, 44, 49, 50, 51, 52, 53, 54, 55, 56, 63, 72, 73, 74, 76, 81, 85, 86, 90, 91, 93, 94, 95\n",
    "#97, 98, 99, 100, 104, 105, 106, 107, 108, 109, 111, 112, 113, 115, 119, 121, 122, 125, 126, 127, 129, 130\n",
    "\n",
    "#6개 다 있는거 36, 38, 46, 92\n",
    "\n",
    "    \n"
   ]
  },
  {
   "cell_type": "code",
   "execution_count": 213,
   "id": "681d41bd",
   "metadata": {},
   "outputs": [
    {
     "name": "stdout",
     "output_type": "stream",
     "text": [
      "끝남ㅁㅁㅁㅁㅁㅁㅁㅁㅁㅁㅁㅁㅁㅁㅁㅁㅁㅁㅁㅁㅁㅁㅁㅁㅁ\n"
     ]
    }
   ],
   "source": [
    "from functools import reduce\n",
    "\n",
    "def en_request(userId, measDate):\n",
    "    en_code = [('EO','TE'),('EI','CI'),('EI','HI'),('EI','TI'),('EL','EL'),('EL','HL')]\n",
    "    \n",
    "    try:\n",
    "        res_data = {}\n",
    "        for i in en_code:\n",
    "            url=\"{}/{}/{}/{}/{}/{}/{}/{}\".format(en,sid,userId+'_01',measDate[:10],'FG',i[0],i[1],'080300')\n",
    "            en_res = requests.get(url).json()\n",
    "            if(en_res[0]['facilityId']==None):\n",
    "                continue\n",
    "            avg = reduce(lambda acc, cur: acc + float(cur['senVal']) , en_res, 0)/len(en_res)\n",
    "            avg = round(avg,2)\n",
    "            res_data[i[0] + '/' + i[1]] = avg\n",
    "        res_data['measDate'] = measDate[:10]\n",
    "        return res_data\n",
    "\n",
    "    except Exception as e:\n",
    "        print(e)\n",
    "        return None\n",
    "\n",
    "\n",
    "en_gr_datas = []\n",
    "for i in id_data:\n",
    "    none=0\n",
    "    url=\"{}/{}/{}/{}\".format(ss,sid,i['userId'],'')\n",
    "    ss_res = requests.get(url).json()\n",
    "    for j in ss_res:\n",
    "#         try:\n",
    "#             url=\"{}/{}/{}/{}/{}/{}\".format(gr,sid,i['userId'],j['croppingSerlNo'],j['croppingDate'][:10],j['croppingEndDate'][:10])\n",
    "#         except Exception as e:\n",
    "#             print(e)\n",
    "#             continue\n",
    "        url=\"{}/{}/{}/{}/{}/{}\".format(gr,sid,i['userId'],j['croppingSerlNo'],j['croppingDate'][:10],j['croppingEndDate'][:10])\n",
    "        gr_res = requests.get(url).json()\n",
    "        for k in gr_res:\n",
    "            en_data = en_request(i['userId'],k['measDate'])\n",
    "            if(en_data==None or len(en_data)==1):\n",
    "                continue\n",
    "            gr_data = {'measDate':k['measDate'][:10],'userId':k['userId'],'growLength':k['growLength'],'flowerTop':k['flowerTop'],'stemDiameter':k['stemDiameter'],'leavesLength':k['leavesLength'],'leavesWidth':k['leavesWidth'],'leavesNum':k['leavesNum'],'flowerPosition':k['flowerPosition'],'fruitsPosition':k['fruitsPosition'],'fruitsNum':k['fruitsNum']}\n",
    "            print(en_data)\n",
    "            en_data.update(gr_data)\n",
    "            #print(en_data)\n",
    "            \n",
    "            \n",
    "\n",
    "print(\"끝남ㅁㅁㅁㅁㅁㅁㅁㅁㅁㅁㅁㅁㅁㅁㅁㅁㅁㅁㅁㅁㅁㅁㅁㅁㅁ\")\n",
    "\n",
    "\n",
    "        \n",
    "    \n",
    "\n",
    "\n"
   ]
  },
  {
   "cell_type": "code",
   "execution_count": 23,
   "id": "dd57f0cd",
   "metadata": {},
   "outputs": [
    {
     "name": "stdout",
     "output_type": "stream",
     "text": [
      "2\n"
     ]
    }
   ],
   "source": [
    "i = [(1,2)]\n",
    "\n",
    "print(i[0][1])\n",
    "    "
   ]
  }
 ],
 "metadata": {
  "kernelspec": {
   "display_name": "Python 3 (ipykernel)",
   "language": "python",
   "name": "python3"
  },
  "language_info": {
   "codemirror_mode": {
    "name": "ipython",
    "version": 3
   },
   "file_extension": ".py",
   "mimetype": "text/x-python",
   "name": "python",
   "nbconvert_exporter": "python",
   "pygments_lexer": "ipython3",
   "version": "3.10.9"
  }
 },
 "nbformat": 4,
 "nbformat_minor": 5
}
